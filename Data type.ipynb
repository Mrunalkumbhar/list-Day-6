{
 "cells": [
  {
   "cell_type": "markdown",
   "id": "2aa27626",
   "metadata": {},
   "source": [
    "# Built-in Data Types"
   ]
  },
  {
   "cell_type": "code",
   "execution_count": 1,
   "id": "54ade2bb",
   "metadata": {},
   "outputs": [],
   "source": [
    "# In programming, data type is an important concept.\n",
    "\n",
    "# Variables can store data of different types, and different types can do different things.\n",
    "\n",
    "# Python has the following data types built-in by default, in these categories:\n",
    "\n",
    "# Text Type:str\n",
    "# Numeric Types:int, float, complex\n",
    "# Sequence Types:list, tuple, range\n",
    "# Mapping Type:dict\n",
    "# Set Types:set, frozenset\n",
    "# Boolean Type:bool\n",
    "# Binary Types:bytes, bytearray, memoryview\n",
    "# None Type:NoneType"
   ]
  },
  {
   "cell_type": "markdown",
   "id": "a0f73ded",
   "metadata": {},
   "source": [
    "## Text Type"
   ]
  },
  {
   "cell_type": "markdown",
   "id": "e99c6be6",
   "metadata": {},
   "source": [
    "#### string"
   ]
  },
  {
   "cell_type": "code",
   "execution_count": 2,
   "id": "1916ca7a",
   "metadata": {},
   "outputs": [
    {
     "data": {
      "text/plain": [
       "str"
      ]
     },
     "execution_count": 2,
     "metadata": {},
     "output_type": "execute_result"
    }
   ],
   "source": [
    "a='hi Diganti how are you?'\n",
    "type(a)"
   ]
  },
  {
   "cell_type": "markdown",
   "id": "15bf0d36",
   "metadata": {},
   "source": [
    "## Numeric Types"
   ]
  },
  {
   "cell_type": "markdown",
   "id": "ce99921b",
   "metadata": {},
   "source": [
    "#### integer"
   ]
  },
  {
   "cell_type": "code",
   "execution_count": 3,
   "id": "cc9efa07",
   "metadata": {},
   "outputs": [
    {
     "data": {
      "text/plain": [
       "int"
      ]
     },
     "execution_count": 3,
     "metadata": {},
     "output_type": "execute_result"
    }
   ],
   "source": [
    "i=67\n",
    "type(i)"
   ]
  },
  {
   "cell_type": "markdown",
   "id": "57af7b8f",
   "metadata": {},
   "source": [
    "#### float"
   ]
  },
  {
   "cell_type": "code",
   "execution_count": 4,
   "id": "dda3f6e1",
   "metadata": {},
   "outputs": [
    {
     "data": {
      "text/plain": [
       "float"
      ]
     },
     "execution_count": 4,
     "metadata": {},
     "output_type": "execute_result"
    }
   ],
   "source": [
    "f=2.3\n",
    "type(f)"
   ]
  },
  {
   "cell_type": "markdown",
   "id": "d24efeb8",
   "metadata": {},
   "source": [
    "#### complex"
   ]
  },
  {
   "cell_type": "code",
   "execution_count": 5,
   "id": "54011b4b",
   "metadata": {},
   "outputs": [
    {
     "data": {
      "text/plain": [
       "complex"
      ]
     },
     "execution_count": 5,
     "metadata": {},
     "output_type": "execute_result"
    }
   ],
   "source": [
    "c=2+5j\n",
    "type(c)"
   ]
  },
  {
   "cell_type": "markdown",
   "id": "d8683fb3",
   "metadata": {},
   "source": [
    "## Sequence Types"
   ]
  },
  {
   "cell_type": "markdown",
   "id": "075676ed",
   "metadata": {},
   "source": [
    "#### list"
   ]
  },
  {
   "cell_type": "code",
   "execution_count": 6,
   "id": "42aaca0b",
   "metadata": {},
   "outputs": [
    {
     "data": {
      "text/plain": [
       "list"
      ]
     },
     "execution_count": 6,
     "metadata": {},
     "output_type": "execute_result"
    }
   ],
   "source": [
    "l=[\"a\",\"b\",\"c\",\"d\"]\n",
    "type(l)"
   ]
  },
  {
   "cell_type": "markdown",
   "id": "48a13e71",
   "metadata": {},
   "source": [
    "#### Tuple"
   ]
  },
  {
   "cell_type": "code",
   "execution_count": 1,
   "id": "b8cda25e",
   "metadata": {},
   "outputs": [
    {
     "data": {
      "text/plain": [
       "tuple"
      ]
     },
     "execution_count": 1,
     "metadata": {},
     "output_type": "execute_result"
    }
   ],
   "source": [
    "t=('a','b','c','d')\n",
    "type(t)"
   ]
  },
  {
   "cell_type": "markdown",
   "id": "8adee818",
   "metadata": {},
   "source": [
    "#### Range"
   ]
  },
  {
   "cell_type": "code",
   "execution_count": 5,
   "id": "423c23f7",
   "metadata": {},
   "outputs": [
    {
     "name": "stdout",
     "output_type": "stream",
     "text": [
      "range(0, 6)\n"
     ]
    }
   ],
   "source": [
    "r=range(6)\n",
    "type(r)\n",
    "print(r)"
   ]
  },
  {
   "cell_type": "markdown",
   "id": "7df2c023",
   "metadata": {},
   "source": [
    "#### Dictionaries"
   ]
  },
  {
   "cell_type": "code",
   "execution_count": 7,
   "id": "4a7e91da",
   "metadata": {},
   "outputs": [
    {
     "data": {
      "text/plain": [
       "{'name': 'Diganti', 'age': 21, 'city': 'Karad'}"
      ]
     },
     "execution_count": 7,
     "metadata": {},
     "output_type": "execute_result"
    }
   ],
   "source": [
    "d={\"name\":\"Diganti\",\"age\":21,\"city\":\"Karad\"}\n",
    "d"
   ]
  },
  {
   "cell_type": "markdown",
   "id": "c168be0e",
   "metadata": {},
   "source": [
    "#### Set"
   ]
  },
  {
   "cell_type": "code",
   "execution_count": 8,
   "id": "aa2ddb94",
   "metadata": {},
   "outputs": [
    {
     "data": {
      "text/plain": [
       "{'a', 'b', 'c', 'd'}"
      ]
     },
     "execution_count": 8,
     "metadata": {},
     "output_type": "execute_result"
    }
   ],
   "source": [
    "s={'a','b','c','d'}\n",
    "s"
   ]
  },
  {
   "cell_type": "code",
   "execution_count": 9,
   "id": "1a776180",
   "metadata": {},
   "outputs": [
    {
     "name": "stdout",
     "output_type": "stream",
     "text": [
      "True\n"
     ]
    }
   ],
   "source": [
    "x=5==5\n",
    "print(x)"
   ]
  },
  {
   "cell_type": "code",
   "execution_count": 10,
   "id": "0bbb7a38",
   "metadata": {},
   "outputs": [
    {
     "data": {
      "text/plain": [
       "bool"
      ]
     },
     "execution_count": 10,
     "metadata": {},
     "output_type": "execute_result"
    }
   ],
   "source": [
    "type(x)"
   ]
  },
  {
   "cell_type": "markdown",
   "id": "4f98b584",
   "metadata": {},
   "source": [
    "# List"
   ]
  },
  {
   "cell_type": "code",
   "execution_count": 1,
   "id": "2352bcd4",
   "metadata": {},
   "outputs": [],
   "source": [
    "# Lists are used to store multiple items in a single variable.\n",
    "# Lists are one of 4 built-in data types in Python used to store collections of data,\n",
    "# the other 3 are Tuple, Set, and Dictionary, all with different qualities and usage.\n",
    "# Lists are created using square brackets[]\n",
    "# List items are ordered, changeable, and allow duplicate values."
   ]
  },
  {
   "cell_type": "code",
   "execution_count": 2,
   "id": "899ab278",
   "metadata": {},
   "outputs": [
    {
     "data": {
      "text/plain": [
       "['Pune', 'Mumbai', 'Karad', 'Satara']"
      ]
     },
     "execution_count": 2,
     "metadata": {},
     "output_type": "execute_result"
    }
   ],
   "source": [
    "l=['Pune','Mumbai','Karad','Satara']\n",
    "l"
   ]
  },
  {
   "cell_type": "markdown",
   "id": "6e14ed8b",
   "metadata": {},
   "source": [
    "#### Ordered"
   ]
  },
  {
   "cell_type": "code",
   "execution_count": 1,
   "id": "e8446993",
   "metadata": {},
   "outputs": [],
   "source": [
    "# When we say that lists are ordered,it means that the items have a defined order,and that order will \n",
    "# not change.If you add new items to a list, the new items will be placed at the end of the list."
   ]
  },
  {
   "cell_type": "code",
   "execution_count": 2,
   "id": "950fd278",
   "metadata": {},
   "outputs": [
    {
     "data": {
      "text/plain": [
       "['Pune', 'Mumbai', 'Karad', 'Satara']"
      ]
     },
     "execution_count": 2,
     "metadata": {},
     "output_type": "execute_result"
    }
   ],
   "source": [
    "l=['Pune','Mumbai','Karad','Satara']\n",
    "l"
   ]
  },
  {
   "cell_type": "markdown",
   "id": "8fc1806a",
   "metadata": {},
   "source": [
    "#### Changeable"
   ]
  },
  {
   "cell_type": "code",
   "execution_count": 3,
   "id": "77803019",
   "metadata": {},
   "outputs": [],
   "source": [
    "# The list is changeable, meaning that we can change,add,remove items in a list after \n",
    "# it has been created."
   ]
  },
  {
   "cell_type": "code",
   "execution_count": 4,
   "id": "bd99d4d7",
   "metadata": {},
   "outputs": [],
   "source": [
    "l=['Pune','Mumbai','Karad','Satara']\n",
    "l[0]='Kolhapur'"
   ]
  },
  {
   "cell_type": "code",
   "execution_count": 5,
   "id": "3cbddf81",
   "metadata": {},
   "outputs": [
    {
     "data": {
      "text/plain": [
       "['Kolhapur', 'Mumbai', 'Karad', 'Satara']"
      ]
     },
     "execution_count": 5,
     "metadata": {},
     "output_type": "execute_result"
    }
   ],
   "source": [
    "l"
   ]
  },
  {
   "cell_type": "markdown",
   "id": "f1e43778",
   "metadata": {},
   "source": [
    "#### Allow Duplicates"
   ]
  },
  {
   "cell_type": "code",
   "execution_count": 1,
   "id": "1d80555b",
   "metadata": {},
   "outputs": [],
   "source": [
    "# Since lists are indexed, lists can have items with the same value"
   ]
  },
  {
   "cell_type": "code",
   "execution_count": 2,
   "id": "506787a8",
   "metadata": {},
   "outputs": [
    {
     "data": {
      "text/plain": [
       "['Pune', 'Mumbai', 'Karad', 'Satara', 'Pune']"
      ]
     },
     "execution_count": 2,
     "metadata": {},
     "output_type": "execute_result"
    }
   ],
   "source": [
    "l=['Pune','Mumbai','Karad','Satara','Pune']\n",
    "l"
   ]
  },
  {
   "cell_type": "markdown",
   "id": "1c865b13",
   "metadata": {},
   "source": [
    "#### Length"
   ]
  },
  {
   "cell_type": "code",
   "execution_count": 1,
   "id": "bddc4049",
   "metadata": {},
   "outputs": [
    {
     "data": {
      "text/plain": [
       "5"
      ]
     },
     "execution_count": 1,
     "metadata": {},
     "output_type": "execute_result"
    }
   ],
   "source": [
    "l=['Pune','Mumbai','Karad','Satara','Pune']\n",
    "len(l)"
   ]
  },
  {
   "cell_type": "markdown",
   "id": "a536c7e1",
   "metadata": {},
   "source": [
    "#### List Items - Data Types"
   ]
  },
  {
   "cell_type": "code",
   "execution_count": 1,
   "id": "05cf4cd1",
   "metadata": {},
   "outputs": [
    {
     "name": "stdout",
     "output_type": "stream",
     "text": [
      "['Mrunal', 'Diganti', 'Riya', 'Darshana', 'Rahi', 'Sai'] [2, 4, 6, 8, 10, 12, 14, 16, 20, 22] [True, False, True, False]\n"
     ]
    }
   ],
   "source": [
    "l1=['Mrunal','Diganti','Riya','Darshana','Rahi','Sai']\n",
    "l2=[2,4,6,8,10,12,14,16,20,22]\n",
    "l3=[True,False,True,False]\n",
    "print(l1,l2,l3)"
   ]
  },
  {
   "cell_type": "markdown",
   "id": "194e278d",
   "metadata": {},
   "source": [
    "#### list with strings, integers and boolean values:"
   ]
  },
  {
   "cell_type": "code",
   "execution_count": 1,
   "id": "48733309",
   "metadata": {},
   "outputs": [
    {
     "data": {
      "text/plain": [
       "['abc', 34, True, 40, 'male']"
      ]
     },
     "execution_count": 1,
     "metadata": {},
     "output_type": "execute_result"
    }
   ],
   "source": [
    "list1 = [\"abc\", 34, True, 40, \"male\"]\n",
    "list1"
   ]
  },
  {
   "cell_type": "code",
   "execution_count": null,
   "id": "59ea31c0",
   "metadata": {},
   "outputs": [],
   "source": []
  }
 ],
 "metadata": {
  "kernelspec": {
   "display_name": "Python 3 (ipykernel)",
   "language": "python",
   "name": "python3"
  },
  "language_info": {
   "codemirror_mode": {
    "name": "ipython",
    "version": 3
   },
   "file_extension": ".py",
   "mimetype": "text/x-python",
   "name": "python",
   "nbconvert_exporter": "python",
   "pygments_lexer": "ipython3",
   "version": "3.9.7"
  }
 },
 "nbformat": 4,
 "nbformat_minor": 5
}
